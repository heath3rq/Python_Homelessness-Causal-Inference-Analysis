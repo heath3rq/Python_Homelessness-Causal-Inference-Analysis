{
 "cells": [
  {
   "attachments": {},
   "cell_type": "markdown",
   "metadata": {},
   "source": [
    "## **Population dataset**"
   ]
  },
  {
   "cell_type": "code",
   "execution_count": 3,
   "metadata": {},
   "outputs": [],
   "source": [
    "import pandas as pd\n"
   ]
  },
  {
   "attachments": {},
   "cell_type": "markdown",
   "metadata": {},
   "source": [
    "## Import COC data set"
   ]
  },
  {
   "cell_type": "code",
   "execution_count": 5,
   "metadata": {},
   "outputs": [
    {
     "data": {
      "text/html": [
       "<div>\n",
       "<style scoped>\n",
       "    .dataframe tbody tr th:only-of-type {\n",
       "        vertical-align: middle;\n",
       "    }\n",
       "\n",
       "    .dataframe tbody tr th {\n",
       "        vertical-align: top;\n",
       "    }\n",
       "\n",
       "    .dataframe thead th {\n",
       "        text-align: right;\n",
       "    }\n",
       "</style>\n",
       "<table border=\"1\" class=\"dataframe\">\n",
       "  <thead>\n",
       "    <tr style=\"text-align: right;\">\n",
       "      <th></th>\n",
       "      <th>State</th>\n",
       "      <th>STNAME</th>\n",
       "      <th>CoC Code</th>\n",
       "      <th>Coc</th>\n",
       "      <th>CTYNAME</th>\n",
       "      <th>FIPS code</th>\n",
       "    </tr>\n",
       "  </thead>\n",
       "  <tbody>\n",
       "    <tr>\n",
       "      <th>0</th>\n",
       "      <td>AZ</td>\n",
       "      <td>Arizona</td>\n",
       "      <td>AZ-502</td>\n",
       "      <td>Phoenix,Mesa/Maricopa</td>\n",
       "      <td>Maricopa County</td>\n",
       "      <td>4013</td>\n",
       "    </tr>\n",
       "    <tr>\n",
       "      <th>1</th>\n",
       "      <td>CA</td>\n",
       "      <td>California</td>\n",
       "      <td>CA-600</td>\n",
       "      <td>Los Angeles City &amp; County</td>\n",
       "      <td>Los Angeles County</td>\n",
       "      <td>6037</td>\n",
       "    </tr>\n",
       "    <tr>\n",
       "      <th>2</th>\n",
       "      <td>CA</td>\n",
       "      <td>California</td>\n",
       "      <td>CA-601</td>\n",
       "      <td>San Diego City and County</td>\n",
       "      <td>San Diego County</td>\n",
       "      <td>6073</td>\n",
       "    </tr>\n",
       "    <tr>\n",
       "      <th>3</th>\n",
       "      <td>CA</td>\n",
       "      <td>California</td>\n",
       "      <td>CA-500</td>\n",
       "      <td>San Jose/Santa Clara City &amp; County</td>\n",
       "      <td>Santa Clara County</td>\n",
       "      <td>6085</td>\n",
       "    </tr>\n",
       "    <tr>\n",
       "      <th>4</th>\n",
       "      <td>CA</td>\n",
       "      <td>California</td>\n",
       "      <td>CA-609</td>\n",
       "      <td>San Bernardino City &amp; County</td>\n",
       "      <td>San Bernardino County</td>\n",
       "      <td>6071</td>\n",
       "    </tr>\n",
       "  </tbody>\n",
       "</table>\n",
       "</div>"
      ],
      "text/plain": [
       "  State      STNAME CoC Code                                 Coc  \\\n",
       "0    AZ     Arizona   AZ-502               Phoenix,Mesa/Maricopa   \n",
       "1    CA  California   CA-600           Los Angeles City & County   \n",
       "2    CA  California   CA-601           San Diego City and County   \n",
       "3    CA  California   CA-500  San Jose/Santa Clara City & County   \n",
       "4    CA  California   CA-609        San Bernardino City & County   \n",
       "\n",
       "                 CTYNAME  FIPS code  \n",
       "0        Maricopa County       4013  \n",
       "1     Los Angeles County       6037  \n",
       "2       San Diego County       6073  \n",
       "3     Santa Clara County       6085  \n",
       "4  San Bernardino County       6071  "
      ]
     },
     "execution_count": 5,
     "metadata": {},
     "output_type": "execute_result"
    }
   ],
   "source": [
    "# 🛑 check read path\n",
    "CoC_data = pd.read_csv(\n",
    "    \"/00_source_data/COC mapping.csv\"\n",
    ")\n",
    "CoC_data.head()\n"
   ]
  },
  {
   "attachments": {},
   "cell_type": "markdown",
   "metadata": {},
   "source": [
    "## Read Population data and Filter by states"
   ]
  },
  {
   "cell_type": "code",
   "execution_count": 6,
   "metadata": {},
   "outputs": [],
   "source": [
    "states = CoC_data[\"STNAME\"].unique()\n",
    "\n",
    "\n",
    "def read_data(url):\n",
    "    \"\"\"read the population data from raw csv\"\"\"\n",
    "    cols_to_read = [\"STNAME\", \"CTYNAME\"]\n",
    "    popest_cols = [\n",
    "        col\n",
    "        for col in pd.read_csv(url, nrows=1, encoding=\"iso-8859-1\")\n",
    "        if \"POPESTIMATE\" in col\n",
    "    ]\n",
    "    cols_to_read += popest_cols\n",
    "    tmp_data = pd.read_csv(url, usecols=cols_to_read, encoding=\"iso-8859-1\")\n",
    "    final_data = tmp_data[tmp_data[\"STNAME\"].isin(states)]\n",
    "    return final_data\n"
   ]
  },
  {
   "cell_type": "code",
   "execution_count": 10,
   "metadata": {},
   "outputs": [],
   "source": [
    "# 🛑 check read paths\n",
    "pop_2007_2009 = read_data(\n",
    "    \"https://www2.census.gov/programs-surveys/popest/datasets/2000-2009/counties/totals/co-est2009-alldata.csv\"\n",
    ")[[\"STNAME\", \"CTYNAME\", \"POPESTIMATE2007\", \"POPESTIMATE2008\", \"POPESTIMATE2009\"]]\n",
    "pop_2010_2020 = read_data(\n",
    "    \"https://www2.census.gov/programs-surveys/popest/datasets/2010-2020/counties/totals/co-est2020-alldata.csv\"\n",
    ")\n",
    "pop_2021_2022 = read_data(\n",
    "    \"https://www2.census.gov/programs-surveys/popest/datasets/2020-2022/counties/totals/co-est2022-alldata.csv\"\n",
    ")[[\"STNAME\", \"CTYNAME\", \"POPESTIMATE2021\", \"POPESTIMATE2022\"]]\n"
   ]
  },
  {
   "attachments": {},
   "cell_type": "markdown",
   "metadata": {},
   "source": [
    "## Merge data sets with CoC data"
   ]
  },
  {
   "cell_type": "code",
   "execution_count": 11,
   "metadata": {},
   "outputs": [],
   "source": [
    "def merge_data(data):\n",
    "    \"\"\"merge datasets\"\"\"\n",
    "    data_merged = pd.merge(CoC_data, data, on = [\"STNAME\", \"CTYNAME\"], how=\"left\", indicator=True)\n",
    "    #check successful merge\n",
    "    try:\n",
    "        len(data_merged[\"_merge\"].unique()[0]) == 1\n",
    "        print(\"- successfully merged\")\n",
    "    except len(data_merged[\"_merge\"].unique()[0]) > 1:\n",
    "        print(\"unmerged elements detected\")\n",
    "    #check duplicates\n",
    "    dups = data_merged[data_merged.duplicated()]\n",
    "    if len(dups) >= 1:\n",
    "        data_merged = data_merged.drop_duplicates().reset_index(drop=True)\n",
    "        print(f\"- {len(dups)} duplicate(s) deleted\")\n",
    "    else:\n",
    "        print(\"No duplicates found\")\n",
    "    data_merged = data_merged.drop(\"_merge\", axis=1)\n",
    "    return data_merged\n",
    "  "
   ]
  },
  {
   "cell_type": "code",
   "execution_count": 12,
   "metadata": {},
   "outputs": [
    {
     "name": "stdout",
     "output_type": "stream",
     "text": [
      "2007 to 2009\n",
      "- successfully merged\n",
      "- 1 duplicate(s) deleted\n",
      "2010 to 2020\n",
      "- successfully merged\n",
      "- 1 duplicate(s) deleted\n",
      "2021 to 2022\n",
      "- successfully merged\n",
      "- 1 duplicate(s) deleted\n"
     ]
    }
   ],
   "source": [
    "print(\"2007 to 2009\")\n",
    "pop_2007_2009_subset = merge_data(pop_2007_2009)\n",
    "print(\"2010 to 2020\")\n",
    "pop_2010_2020_subset = merge_data(pop_2010_2020)\n",
    "print(\"2021 to 2022\")\n",
    "pop_2021_2022_subset = merge_data(pop_2021_2022)\n"
   ]
  },
  {
   "attachments": {},
   "cell_type": "markdown",
   "metadata": {},
   "source": [
    "## Merge all 3 datasets"
   ]
  },
  {
   "cell_type": "code",
   "execution_count": 13,
   "metadata": {},
   "outputs": [],
   "source": [
    "first_merge_final_data = pd.merge(\n",
    "    pop_2007_2009_subset,\n",
    "    pop_2010_2020_subset,\n",
    "    on=[\"STNAME\", \"CTYNAME\"],\n",
    "    how=\"left\",\n",
    "    indicator=True,\n",
    ")\n",
    "assert first_merge_final_data[\"_merge\"].unique() == \"both\"\n",
    "first_merge_final_data = first_merge_final_data.drop(\"_merge\", axis=1)\n"
   ]
  },
  {
   "cell_type": "code",
   "execution_count": 14,
   "metadata": {},
   "outputs": [],
   "source": [
    "second_merge_final_data = pd.merge(\n",
    "    first_merge_final_data,\n",
    "    pop_2021_2022_subset,\n",
    "    on=[\"STNAME\", \"CTYNAME\"],\n",
    "    how=\"left\",\n",
    "    indicator=True,\n",
    ")\n",
    "assert second_merge_final_data[\"_merge\"].unique() == \"both\"\n"
   ]
  },
  {
   "attachments": {},
   "cell_type": "markdown",
   "metadata": {},
   "source": [
    "## Clean Merged dataset"
   ]
  },
  {
   "cell_type": "code",
   "execution_count": 17,
   "metadata": {},
   "outputs": [],
   "source": [
    "all_pop_data = second_merge_final_data[\n",
    "    [\n",
    "        \"State\",\n",
    "        \"STNAME\",\n",
    "        \"Coc\",\n",
    "        \"CoC Code\",\n",
    "        \"FIPS code\",\n",
    "        \"CTYNAME\",\n",
    "        \"POPESTIMATE2007\",\n",
    "        \"POPESTIMATE2008\",\n",
    "        \"POPESTIMATE2009\",\n",
    "        \"POPESTIMATE2010\",\n",
    "        \"POPESTIMATE2011\",\n",
    "        \"POPESTIMATE2012\",\n",
    "        \"POPESTIMATE2013\",\n",
    "        \"POPESTIMATE2014\",\n",
    "        \"POPESTIMATE2015\",\n",
    "        \"POPESTIMATE2016\",\n",
    "        \"POPESTIMATE2017\",\n",
    "        \"POPESTIMATE2018\",\n",
    "        \"POPESTIMATE2019\",\n",
    "        \"POPESTIMATE2020\",\n",
    "        \"POPESTIMATE2021\",\n",
    "        \"POPESTIMATE2022\",\n",
    "    ]\n",
    "]\n"
   ]
  },
  {
   "cell_type": "code",
   "execution_count": 19,
   "metadata": {},
   "outputs": [],
   "source": [
    "populations_cols = [\n",
    "    \"POPESTIMATE2007\",\n",
    "    \"POPESTIMATE2008\",\n",
    "    \"POPESTIMATE2009\",\n",
    "    \"POPESTIMATE2010\",\n",
    "    \"POPESTIMATE2011\",\n",
    "    \"POPESTIMATE2012\",\n",
    "    \"POPESTIMATE2013\",\n",
    "    \"POPESTIMATE2014\",\n",
    "    \"POPESTIMATE2015\",\n",
    "    \"POPESTIMATE2016\",\n",
    "    \"POPESTIMATE2017\",\n",
    "    \"POPESTIMATE2018\",\n",
    "    \"POPESTIMATE2019\",\n",
    "    \"POPESTIMATE2020\",\n",
    "    \"POPESTIMATE2021\",\n",
    "    \"POPESTIMATE2022\",\n",
    "]\n",
    "all_pop_data_melt = pd.melt(\n",
    "    all_pop_data, id_vars=[\"State\",\n",
    "        \"STNAME\",\n",
    "        \"Coc\",\n",
    "        \"CoC Code\",\n",
    "        \"FIPS code\",\n",
    "        \"CTYNAME\"], value_vars=populations_cols\n",
    ")\n",
    "assert (len(populations_cols) * len(all_pop_data[\"CTYNAME\"].unique())) == len(\n",
    "    all_pop_data_melt\n",
    ")\n"
   ]
  },
  {
   "attachments": {},
   "cell_type": "markdown",
   "metadata": {},
   "source": [
    "## Melt data and rename variables"
   ]
  },
  {
   "cell_type": "code",
   "execution_count": 21,
   "metadata": {},
   "outputs": [
    {
     "data": {
      "text/html": [
       "<div>\n",
       "<style scoped>\n",
       "    .dataframe tbody tr th:only-of-type {\n",
       "        vertical-align: middle;\n",
       "    }\n",
       "\n",
       "    .dataframe tbody tr th {\n",
       "        vertical-align: top;\n",
       "    }\n",
       "\n",
       "    .dataframe thead th {\n",
       "        text-align: right;\n",
       "    }\n",
       "</style>\n",
       "<table border=\"1\" class=\"dataframe\">\n",
       "  <thead>\n",
       "    <tr style=\"text-align: right;\">\n",
       "      <th></th>\n",
       "      <th>State</th>\n",
       "      <th>STNAME</th>\n",
       "      <th>Coc</th>\n",
       "      <th>CoC Code</th>\n",
       "      <th>FIPS code</th>\n",
       "      <th>CTYNAME</th>\n",
       "      <th>Year</th>\n",
       "      <th>Population</th>\n",
       "    </tr>\n",
       "  </thead>\n",
       "  <tbody>\n",
       "    <tr>\n",
       "      <th>0</th>\n",
       "      <td>AZ</td>\n",
       "      <td>Arizona</td>\n",
       "      <td>Phoenix,Mesa/Maricopa</td>\n",
       "      <td>AZ-502</td>\n",
       "      <td>4013</td>\n",
       "      <td>Maricopa County</td>\n",
       "      <td>2007</td>\n",
       "      <td>3872962</td>\n",
       "    </tr>\n",
       "    <tr>\n",
       "      <th>1</th>\n",
       "      <td>CA</td>\n",
       "      <td>California</td>\n",
       "      <td>Los Angeles City &amp; County</td>\n",
       "      <td>CA-600</td>\n",
       "      <td>6037</td>\n",
       "      <td>Los Angeles County</td>\n",
       "      <td>2007</td>\n",
       "      <td>9734701</td>\n",
       "    </tr>\n",
       "    <tr>\n",
       "      <th>2</th>\n",
       "      <td>CA</td>\n",
       "      <td>California</td>\n",
       "      <td>San Diego City and County</td>\n",
       "      <td>CA-601</td>\n",
       "      <td>6073</td>\n",
       "      <td>San Diego County</td>\n",
       "      <td>2007</td>\n",
       "      <td>2975656</td>\n",
       "    </tr>\n",
       "    <tr>\n",
       "      <th>3</th>\n",
       "      <td>CA</td>\n",
       "      <td>California</td>\n",
       "      <td>San Jose/Santa Clara City &amp; County</td>\n",
       "      <td>CA-500</td>\n",
       "      <td>6085</td>\n",
       "      <td>Santa Clara County</td>\n",
       "      <td>2007</td>\n",
       "      <td>1723927</td>\n",
       "    </tr>\n",
       "    <tr>\n",
       "      <th>4</th>\n",
       "      <td>CA</td>\n",
       "      <td>California</td>\n",
       "      <td>San Bernardino City &amp; County</td>\n",
       "      <td>CA-609</td>\n",
       "      <td>6071</td>\n",
       "      <td>San Bernardino County</td>\n",
       "      <td>2007</td>\n",
       "      <td>1992989</td>\n",
       "    </tr>\n",
       "  </tbody>\n",
       "</table>\n",
       "</div>"
      ],
      "text/plain": [
       "  State      STNAME                                 Coc CoC Code  FIPS code  \\\n",
       "0    AZ     Arizona               Phoenix,Mesa/Maricopa   AZ-502       4013   \n",
       "1    CA  California           Los Angeles City & County   CA-600       6037   \n",
       "2    CA  California           San Diego City and County   CA-601       6073   \n",
       "3    CA  California  San Jose/Santa Clara City & County   CA-500       6085   \n",
       "4    CA  California        San Bernardino City & County   CA-609       6071   \n",
       "\n",
       "                 CTYNAME  Year  Population  \n",
       "0        Maricopa County  2007     3872962  \n",
       "1     Los Angeles County  2007     9734701  \n",
       "2       San Diego County  2007     2975656  \n",
       "3     Santa Clara County  2007     1723927  \n",
       "4  San Bernardino County  2007     1992989  "
      ]
     },
     "execution_count": 21,
     "metadata": {},
     "output_type": "execute_result"
    }
   ],
   "source": [
    "all_pop_data_melt = all_pop_data_melt.rename(\n",
    "    columns={\"variable\": \"Year\", \"value\": \"Population\"}\n",
    ")\n",
    "all_pop_data_melt[\"Year\"] = all_pop_data_melt[\"Year\"].str.replace(\"POPESTIMATE\", \"\")\n",
    "# 🛑 check write path\n",
    "#all_pop_data_melt.to_csv(\"/20_intermediate_files/population.csv\")\n",
    "all_pop_data_melt.head()\n"
   ]
  }
 ],
 "metadata": {
  "kernelspec": {
   "display_name": "base",
   "language": "python",
   "name": "python3"
  },
  "language_info": {
   "codemirror_mode": {
    "name": "ipython",
    "version": 3
   },
   "file_extension": ".py",
   "mimetype": "text/x-python",
   "name": "python",
   "nbconvert_exporter": "python",
   "pygments_lexer": "ipython3",
   "version": "3.10.8"
  },
  "orig_nbformat": 4,
  "vscode": {
   "interpreter": {
    "hash": "4de7276074beb09e94c04d5e134c141d0f336e3226759f4865dc0d0ce3d2e27e"
   }
  }
 },
 "nbformat": 4,
 "nbformat_minor": 2
}
